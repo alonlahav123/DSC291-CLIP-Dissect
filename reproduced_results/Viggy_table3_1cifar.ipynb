{
 "cells": [
  {
   "cell_type": "markdown",
   "id": "4de07f60-a054-4adf-adcc-151706242961",
   "metadata": {},
   "source": [
    "## Create 16x results"
   ]
  },
  {
   "cell_type": "code",
   "execution_count": 1,
   "id": "fe46f37c-374d-4762-afce-b24c7d98e4c8",
   "metadata": {},
   "outputs": [
    {
     "name": "stdout",
     "output_type": "stream",
     "text": [
      "Running: similarity_fn=cos_similarity, d_probe=cifar100_train\n"
     ]
    },
    {
     "name": "stderr",
     "output_type": "stream",
     "text": [
      "usage: describe_neurons.py [-h]\n",
      "                           [--clip_model {RN50,RN101,RN50x4,RN50x16,RN50x64,ViT-B/32,ViT-B/16,ViT-L/14}]\n",
      "                           [--target_model TARGET_MODEL]\n",
      "                           [--target_layers TARGET_LAYERS]\n",
      "                           [--d_probe {imagenet_broden,cifar100_val,imagenet_val,broden,imagenet_broden}]\n",
      "                           [--concept_set CONCEPT_SET]\n",
      "                           [--batch_size BATCH_SIZE] [--device DEVICE]\n",
      "                           [--activation_dir ACTIVATION_DIR]\n",
      "                           [--result_dir RESULT_DIR] [--pool_mode POOL_MODE]\n",
      "                           [--similarity_fn {soft_wpmi,wpmi,rank_reorder,cos_similarity,cos_similarity_cubed}]\n",
      "describe_neurons.py: error: argument --d_probe: invalid choice: 'cifar100_train' (choose from 'imagenet_broden', 'cifar100_val', 'imagenet_val', 'broden', 'imagenet_broden')\n"
     ]
    },
    {
     "name": "stdout",
     "output_type": "stream",
     "text": [
      "Running: similarity_fn=rank_reorder, d_probe=cifar100_train\n"
     ]
    },
    {
     "name": "stderr",
     "output_type": "stream",
     "text": [
      "usage: describe_neurons.py [-h]\n",
      "                           [--clip_model {RN50,RN101,RN50x4,RN50x16,RN50x64,ViT-B/32,ViT-B/16,ViT-L/14}]\n",
      "                           [--target_model TARGET_MODEL]\n",
      "                           [--target_layers TARGET_LAYERS]\n",
      "                           [--d_probe {imagenet_broden,cifar100_val,imagenet_val,broden,imagenet_broden}]\n",
      "                           [--concept_set CONCEPT_SET]\n",
      "                           [--batch_size BATCH_SIZE] [--device DEVICE]\n",
      "                           [--activation_dir ACTIVATION_DIR]\n",
      "                           [--result_dir RESULT_DIR] [--pool_mode POOL_MODE]\n",
      "                           [--similarity_fn {soft_wpmi,wpmi,rank_reorder,cos_similarity,cos_similarity_cubed}]\n",
      "describe_neurons.py: error: argument --d_probe: invalid choice: 'cifar100_train' (choose from 'imagenet_broden', 'cifar100_val', 'imagenet_val', 'broden', 'imagenet_broden')\n"
     ]
    },
    {
     "name": "stdout",
     "output_type": "stream",
     "text": [
      "Running: similarity_fn=wpmi, d_probe=cifar100_train\n"
     ]
    },
    {
     "name": "stderr",
     "output_type": "stream",
     "text": [
      "usage: describe_neurons.py [-h]\n",
      "                           [--clip_model {RN50,RN101,RN50x4,RN50x16,RN50x64,ViT-B/32,ViT-B/16,ViT-L/14}]\n",
      "                           [--target_model TARGET_MODEL]\n",
      "                           [--target_layers TARGET_LAYERS]\n",
      "                           [--d_probe {imagenet_broden,cifar100_val,imagenet_val,broden,imagenet_broden}]\n",
      "                           [--concept_set CONCEPT_SET]\n",
      "                           [--batch_size BATCH_SIZE] [--device DEVICE]\n",
      "                           [--activation_dir ACTIVATION_DIR]\n",
      "                           [--result_dir RESULT_DIR] [--pool_mode POOL_MODE]\n",
      "                           [--similarity_fn {soft_wpmi,wpmi,rank_reorder,cos_similarity,cos_similarity_cubed}]\n",
      "describe_neurons.py: error: argument --d_probe: invalid choice: 'cifar100_train' (choose from 'imagenet_broden', 'cifar100_val', 'imagenet_val', 'broden', 'imagenet_broden')\n"
     ]
    },
    {
     "name": "stdout",
     "output_type": "stream",
     "text": [
      "Running: similarity_fn=soft_wpmi, d_probe=cifar100_train\n"
     ]
    },
    {
     "name": "stderr",
     "output_type": "stream",
     "text": [
      "usage: describe_neurons.py [-h]\n",
      "                           [--clip_model {RN50,RN101,RN50x4,RN50x16,RN50x64,ViT-B/32,ViT-B/16,ViT-L/14}]\n",
      "                           [--target_model TARGET_MODEL]\n",
      "                           [--target_layers TARGET_LAYERS]\n",
      "                           [--d_probe {imagenet_broden,cifar100_val,imagenet_val,broden,imagenet_broden}]\n",
      "                           [--concept_set CONCEPT_SET]\n",
      "                           [--batch_size BATCH_SIZE] [--device DEVICE]\n",
      "                           [--activation_dir ACTIVATION_DIR]\n",
      "                           [--result_dir RESULT_DIR] [--pool_mode POOL_MODE]\n",
      "                           [--similarity_fn {soft_wpmi,wpmi,rank_reorder,cos_similarity,cos_similarity_cubed}]\n",
      "describe_neurons.py: error: argument --d_probe: invalid choice: 'cifar100_train' (choose from 'imagenet_broden', 'cifar100_val', 'imagenet_val', 'broden', 'imagenet_broden')\n"
     ]
    }
   ],
   "source": [
    "%%bash\n",
    "\n",
    "# 1. Define the four similarity functions and four probe‐sets:\n",
    "similarity_fns=(cos_similarity rank_reorder wpmi soft_wpmi)\n",
    "# d_probes=(cifar100_train broden imagenet_val imagenet_broden)\n",
    "d_probes=(cifar100_train)\n",
    "\n",
    "# 2. Loop over each pair and invoke describe_neurons.py on the FC layer:\n",
    "for sim_fn in \"${similarity_fns[@]}\"; do\n",
    "  for dp in \"${d_probes[@]}\"; do\n",
    "    echo \"Running: similarity_fn=$sim_fn, d_probe=$dp\"\n",
    "    python describe_neurons.py \\\n",
    "      --clip_model    ViT-B/16 \\\n",
    "      --target_model  resnet50 \\\n",
    "      --target_layers fc \\\n",
    "      --d_probe       \"$dp\" \\\n",
    "      --concept_set   data/imagenet_labels.txt \\\n",
    "      --pool_mode     avg \\\n",
    "      --similarity_fn \"$sim_fn\" \\\n",
    "      --batch_size    200 \\\n",
    "      --device        cuda\n",
    "    sleep 70\n",
    "  done\n",
    "done"
   ]
  },
  {
   "cell_type": "markdown",
   "id": "10471e16-5f1a-486a-a053-f32e1faeff3f",
   "metadata": {},
   "source": [
    "## Similarity function comparison"
   ]
  },
  {
   "cell_type": "code",
   "execution_count": 2,
   "id": "4b33deec-4d03-46d8-8ac5-b7b3e5b2f6c9",
   "metadata": {},
   "outputs": [
    {
     "name": "stderr",
     "output_type": "stream",
     "text": [
      "2025-06-02 09:14:37.528455: I tensorflow/core/util/port.cc:113] oneDNN custom operations are on. You may see slightly different numerical results due to floating-point round-off errors from different computation orders. To turn them off, set the environment variable `TF_ENABLE_ONEDNN_OPTS=0`.\n",
      "2025-06-02 09:14:37.568925: E external/local_xla/xla/stream_executor/cuda/cuda_dnn.cc:9261] Unable to register cuDNN factory: Attempting to register factory for plugin cuDNN when one has already been registered\n",
      "2025-06-02 09:14:37.568944: E external/local_xla/xla/stream_executor/cuda/cuda_fft.cc:607] Unable to register cuFFT factory: Attempting to register factory for plugin cuFFT when one has already been registered\n",
      "2025-06-02 09:14:37.570159: E external/local_xla/xla/stream_executor/cuda/cuda_blas.cc:1515] Unable to register cuBLAS factory: Attempting to register factory for plugin cuBLAS when one has already been registered\n",
      "2025-06-02 09:14:37.577162: I tensorflow/core/platform/cpu_feature_guard.cc:182] This TensorFlow binary is optimized to use available CPU instructions in performance-critical operations.\n",
      "To enable the following instructions: AVX2 AVX512F AVX512_VNNI FMA, in other operations, rebuild TensorFlow with the appropriate compiler flags.\n"
     ]
    }
   ],
   "source": [
    "import os\n",
    "os.chdir(\"/home/vpalaniappan/private/DSC291-CLIP-Dissect\")\n",
    "\n",
    "import torch\n",
    "from sentence_transformers import SentenceTransformer\n",
    "from sklearn import metrics\n",
    "\n",
    "import clip\n",
    "import utils\n",
    "import similarity"
   ]
  },
  {
   "cell_type": "markdown",
   "id": "c5eb399e-2c95-4609-bda4-cc5a5fc7f268",
   "metadata": {},
   "source": [
    "## Settings"
   ]
  },
  {
   "cell_type": "code",
   "execution_count": 3,
   "id": "1724590a-2333-4daa-9948-6be1dfc60c25",
   "metadata": {},
   "outputs": [],
   "source": [
    "similarity_fns = [\"cos_similarity\", \"rank_reorder\", \"wpmi\", \"soft_wpmi\"]\n",
    "# similarity_fns = [\"rank_reorder\"]\n",
    "# d_probes = ['cifar100_train', 'broden', 'imagenet_val', 'imagenet_broden']\n",
    "d_probes = ['cifar100_train']\n",
    "\n",
    "clip_name = 'ViT-B/16'\n",
    "target_name = 'resnet50'\n",
    "target_layer = 'fc'\n",
    "batch_size = 200\n",
    "device = 'cuda'\n",
    "pool_mode = 'avg'\n",
    "save_dir = 'saved_activations'"
   ]
  },
  {
   "cell_type": "code",
   "execution_count": 4,
   "id": "5ed87e72-f472-488d-89bd-c08bee7657d5",
   "metadata": {},
   "outputs": [
    {
     "name": "stderr",
     "output_type": "stream",
     "text": [
      "/opt/conda/lib/python3.11/site-packages/transformers/tokenization_utils_base.py:1601: FutureWarning: `clean_up_tokenization_spaces` was not set. It will be set to `True` by default. This behavior will be depracted in transformers v4.45, and will be then set to `False` by default. For more details check this issue: https://github.com/huggingface/transformers/issues/31884\n",
      "  warnings.warn(\n"
     ]
    }
   ],
   "source": [
    "model = SentenceTransformer('all-mpnet-base-v2')\n",
    "clip_model, _ = clip.load(clip_name, device=device)\n",
    "\n",
    "with open(\"data/imagenet_labels.txt\", \"r\") as f:\n",
    "    cls_id_to_name = f.read().split(\"\\n\")"
   ]
  },
  {
   "cell_type": "markdown",
   "id": "cbfa97eb-1e6a-45c5-96e5-3d5724be0c13",
   "metadata": {},
   "source": [
    "# Cos similarities"
   ]
  },
  {
   "cell_type": "code",
   "execution_count": 5,
   "id": "4b6a1e91-5363-43a3-8f0b-4a034515923e",
   "metadata": {},
   "outputs": [
    {
     "name": "stdout",
     "output_type": "stream",
     "text": [
      "Files already downloaded and verified\n",
      "Files already downloaded and verified\n"
     ]
    },
    {
     "name": "stderr",
     "output_type": "stream",
     "text": [
      "100%|██████████| 250/250 [01:07<00:00,  3.68it/s]\n",
      "100%|██████████| 250/250 [00:57<00:00,  4.32it/s]\n",
      "100%|██████████| 1/1 [00:01<00:00,  1.39s/it]\n"
     ]
    },
    {
     "name": "stdout",
     "output_type": "stream",
     "text": [
      "Similarity fn: cos_similarity, D_probe: cifar100_train\n",
      "Clip similarity: 0.6484, mpnet similarity: 0.2758\n",
      "Files already downloaded and verified\n",
      "Files already downloaded and verified\n"
     ]
    },
    {
     "name": "stderr",
     "output_type": "stream",
     "text": [
      "100%|██████████| 1000/1000 [03:42<00:00,  4.50it/s]\n"
     ]
    },
    {
     "name": "stdout",
     "output_type": "stream",
     "text": [
      "Similarity fn: rank_reorder, D_probe: cifar100_train\n",
      "Clip similarity: 0.7217, mpnet similarity: 0.3233\n",
      "Files already downloaded and verified\n",
      "Files already downloaded and verified\n"
     ]
    },
    {
     "name": "stderr",
     "output_type": "stream",
     "text": [
      "100%|██████████| 1000/1000 [00:10<00:00, 94.54it/s]\n"
     ]
    },
    {
     "name": "stdout",
     "output_type": "stream",
     "text": [
      "Similarity fn: wpmi, D_probe: cifar100_train\n",
      "Clip similarity: 0.7192, mpnet similarity: 0.3466\n",
      "Files already downloaded and verified\n",
      "Files already downloaded and verified\n"
     ]
    },
    {
     "name": "stderr",
     "output_type": "stream",
     "text": [
      "100%|██████████| 1000/1000 [00:27<00:00, 35.99it/s]\n"
     ]
    },
    {
     "name": "stdout",
     "output_type": "stream",
     "text": [
      "torch.Size([1000, 20000])\n",
      "Similarity fn: soft_wpmi, D_probe: cifar100_train\n",
      "Clip similarity: 0.7300, mpnet similarity: 0.3655\n"
     ]
    }
   ],
   "source": [
    "concept_set = 'data/20k.txt'\n",
    "\n",
    "with open(concept_set, 'r') as f:\n",
    "    words = f.read().split('\\n')\n",
    "\n",
    "for similarity_fn in similarity_fns:\n",
    "    for d_probe in d_probes:\n",
    "        utils.save_activations(clip_name = clip_name, target_name = target_name, target_layers = [target_layer], \n",
    "                               d_probe = d_probe, concept_set = concept_set, batch_size = batch_size, \n",
    "                               device = device, pool_mode=pool_mode, save_dir = save_dir)\n",
    "\n",
    "        save_names = utils.get_save_names(clip_name = clip_name, target_name = target_name,\n",
    "                                          target_layer = target_layer, d_probe = d_probe,\n",
    "                                          concept_set = concept_set, pool_mode=pool_mode,\n",
    "                                          save_dir = save_dir)\n",
    "\n",
    "        target_save_name, clip_save_name, text_save_name = save_names\n",
    "\n",
    "        similarities, target_feats = utils.get_similarity_from_activations(target_save_name, clip_save_name, \n",
    "                                                                           text_save_name, \n",
    "                                                                           eval(\"similarity.{}\".format(similarity_fn)),\n",
    "                                                                           device=device)\n",
    "\n",
    "        clip_preds = torch.argmax(similarities, dim=1)\n",
    "        clip_preds = [words[int(pred)] for pred in clip_preds]\n",
    "\n",
    "        clip_cos, mpnet_cos = utils.get_cos_similarity(clip_preds, cls_id_to_name, clip_model, model, device, batch_size)\n",
    "        print(\"Similarity fn: {}, D_probe: {}\".format(similarity_fn, d_probe))\n",
    "        print(\"Clip similarity: {:.4f}, mpnet similarity: {:.4f}\".format(clip_cos, mpnet_cos))"
   ]
  },
  {
   "cell_type": "markdown",
   "id": "81c91edd-85ec-4b37-b7d6-2df042c1f622",
   "metadata": {},
   "source": [
    "# Accuracies"
   ]
  },
  {
   "cell_type": "code",
   "execution_count": 6,
   "id": "1ebc5fec-0878-4f80-b3f1-ca7c1f6a2486",
   "metadata": {},
   "outputs": [],
   "source": [
    "def get_topk_acc(sim, k=5):\n",
    "    correct = 0\n",
    "    for orig_id in range(1000):\n",
    "        vals, ids = torch.topk(sim[orig_id], k=k)\n",
    "        for idx in ids[:k]:\n",
    "            correct += (int(idx)==orig_id)\n",
    "    return (correct/1000)*100\n",
    "\n",
    "def get_correct_rank_mean_median(sim):\n",
    "    ranks = []\n",
    "    for orig_id in range(1000):\n",
    "        vals, ids = torch.sort(sim[orig_id], descending=True)\n",
    "        \n",
    "        ranks.append(list(ids).index(orig_id)+1)\n",
    "        \n",
    "    mean = sum(ranks)/len(ranks)\n",
    "    median = sorted(ranks)[500]\n",
    "    return mean, median\n",
    "\n",
    "def get_auc(sim):\n",
    "    max_sim, preds = torch.max(sim.cpu(), dim=1)\n",
    "    gtruth = torch.arange(0, 1000)\n",
    "    correct = (preds==gtruth)\n",
    "    fpr, tpr, thresholds = metrics.roc_curve(correct, max_sim)\n",
    "    auc = metrics.roc_auc_score(correct, max_sim)\n",
    "    return auc"
   ]
  },
  {
   "cell_type": "code",
   "execution_count": 7,
   "id": "3ae886f7-6e33-4226-8d5e-9e6ccd1699ee",
   "metadata": {},
   "outputs": [
    {
     "name": "stdout",
     "output_type": "stream",
     "text": [
      "Files already downloaded and verified\n",
      "Files already downloaded and verified\n"
     ]
    },
    {
     "name": "stderr",
     "output_type": "stream",
     "text": [
      "100%|██████████| 5/5 [00:00<00:00, 16.78it/s]\n",
      "100%|██████████| 1/1 [00:00<00:00, 11.08it/s]\n"
     ]
    },
    {
     "name": "stdout",
     "output_type": "stream",
     "text": [
      "Similarity fn: cos_similarity, D_probe: cifar100_train\n",
      "Top 1 acc: 8.70%, Top 5 acc: 25.10%\n",
      "Mean rank of correct class: 53.93, Median rank of correct class: 21\n",
      "AUC: 0.5895\n",
      "Files already downloaded and verified\n",
      "Files already downloaded and verified\n"
     ]
    },
    {
     "name": "stderr",
     "output_type": "stream",
     "text": [
      "100%|██████████| 1000/1000 [00:44<00:00, 22.48it/s]\n"
     ]
    },
    {
     "name": "stdout",
     "output_type": "stream",
     "text": [
      "Similarity fn: rank_reorder, D_probe: cifar100_train\n",
      "Top 1 acc: 36.50%, Top 5 acc: 67.20%\n",
      "Mean rank of correct class: 13.62, Median rank of correct class: 3\n",
      "AUC: 0.6271\n",
      "Files already downloaded and verified\n",
      "Files already downloaded and verified\n"
     ]
    },
    {
     "name": "stderr",
     "output_type": "stream",
     "text": [
      "100%|██████████| 1000/1000 [00:00<00:00, 3367.08it/s]\n"
     ]
    },
    {
     "name": "stdout",
     "output_type": "stream",
     "text": [
      "Similarity fn: wpmi, D_probe: cifar100_train\n",
      "Top 1 acc: 23.70%, Top 5 acc: 55.00%\n",
      "Mean rank of correct class: 20.46, Median rank of correct class: 4\n",
      "AUC: 0.6345\n",
      "Files already downloaded and verified\n",
      "Files already downloaded and verified\n"
     ]
    },
    {
     "name": "stderr",
     "output_type": "stream",
     "text": [
      "100%|██████████| 1000/1000 [00:05<00:00, 181.78it/s]\n"
     ]
    },
    {
     "name": "stdout",
     "output_type": "stream",
     "text": [
      "torch.Size([1000, 1000])\n",
      "Similarity fn: soft_wpmi, D_probe: cifar100_train\n",
      "Top 1 acc: 46.20%, Top 5 acc: 79.40%\n",
      "Mean rank of correct class: 8.62, Median rank of correct class: 2\n",
      "AUC: 0.6671\n"
     ]
    }
   ],
   "source": [
    "concept_set = 'data/imagenet_labels.txt'\n",
    "with open(concept_set, 'r') as f: \n",
    "    words = (f.read()).split('\\n')\n",
    "    \n",
    "\n",
    "for similarity_fn in similarity_fns:\n",
    "    for d_probe in d_probes:\n",
    "        utils.save_activations(clip_name = clip_name, target_name = target_name, target_layers = [target_layer], \n",
    "                               d_probe = d_probe, concept_set = concept_set, batch_size = batch_size, \n",
    "                               device = device, pool_mode=pool_mode, save_dir = save_dir)\n",
    "\n",
    "        save_names = utils.get_save_names(clip_name = clip_name, target_name = target_name,\n",
    "                                          target_layer = target_layer, d_probe = d_probe,\n",
    "                                          concept_set = concept_set, pool_mode=pool_mode,\n",
    "                  \n",
    "                                          save_dir = save_dir)\n",
    "\n",
    "        target_save_name, clip_save_name, text_save_name = save_names\n",
    "\n",
    "        similarities, target_feats = utils.get_similarity_from_activations(target_save_name, clip_save_name, \n",
    "                                                                           text_save_name, \n",
    "                                                                           eval(\"similarity.{}\".format(similarity_fn)),\n",
    "                                                                           device=device)\n",
    "        \n",
    "        print(\"Similarity fn: {}, D_probe: {}\".format(similarity_fn, d_probe))\n",
    "        print(\"Top 1 acc: {:.2f}%, Top 5 acc: {:.2f}%\".format(get_topk_acc(similarities, k=1),\n",
    "                                                         get_topk_acc(similarities, k=5)))\n",
    "        \n",
    "        mean, median = get_correct_rank_mean_median(similarities)\n",
    "        print(\"Mean rank of correct class: {:.2f}, Median rank of correct class: {}\".format(mean, median))\n",
    "        print(\"AUC: {:.4f}\".format(get_auc(similarities)))\n",
    "\n"
   ]
  },
  {
   "cell_type": "code",
   "execution_count": null,
   "id": "18321f9f-7d82-4e89-afdc-c7d7a637fd37",
   "metadata": {},
   "outputs": [],
   "source": []
  },
  {
   "cell_type": "code",
   "execution_count": null,
   "id": "dabc84cd-f2c4-4e4a-9d04-448c40403016",
   "metadata": {},
   "outputs": [],
   "source": []
  },
  {
   "cell_type": "code",
   "execution_count": null,
   "id": "87195900-9564-4d7e-b416-7ea8e06c75d0",
   "metadata": {},
   "outputs": [],
   "source": []
  }
 ],
 "metadata": {
  "kernelspec": {
   "display_name": "Python 3 (ipykernel)",
   "language": "python",
   "name": "python3"
  },
  "language_info": {
   "codemirror_mode": {
    "name": "ipython",
    "version": 3
   },
   "file_extension": ".py",
   "mimetype": "text/x-python",
   "name": "python",
   "nbconvert_exporter": "python",
   "pygments_lexer": "ipython3",
   "version": "3.11.9"
  }
 },
 "nbformat": 4,
 "nbformat_minor": 5
}
